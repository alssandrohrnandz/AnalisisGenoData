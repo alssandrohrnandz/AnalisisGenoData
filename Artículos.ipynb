{
  "nbformat": 4,
  "nbformat_minor": 0,
  "metadata": {
    "colab": {
      "provenance": [],
      "include_colab_link": true
    },
    "kernelspec": {
      "name": "python3",
      "display_name": "Python 3"
    },
    "language_info": {
      "name": "python"
    }
  },
  "cells": [
    {
      "cell_type": "markdown",
      "metadata": {
        "id": "view-in-github",
        "colab_type": "text"
      },
      "source": [
        "<a href=\"https://colab.research.google.com/github/alssandrohrnandz/AnalisisGenoData/blob/main/Art%C3%ADculos.ipynb\" target=\"_parent\"><img src=\"https://colab.research.google.com/assets/colab-badge.svg\" alt=\"Open In Colab\"/></a>"
      ]
    },
    {
      "cell_type": "code",
      "source": [
        "import random"
      ],
      "metadata": {
        "id": "2dw17sOB5zO2"
      },
      "execution_count": null,
      "outputs": []
    },
    {
      "cell_type": "code",
      "execution_count": null,
      "metadata": {
        "id": "dbCvE2_v4u51"
      },
      "outputs": [],
      "source": [
        "def representante(alumnos_de_posgrado, cantidad=1):\n",
        "    if cantidad > len(alumnos_de_posgrado):\n",
        "        print(\"La cantidad solicitada es mayor que la cantidad de nombres en la lista.\")\n",
        "        return\n",
        "\n",
        "    nombres_aleatorios = random.sample(alumnos_de_posgrado, cantidad)\n",
        "    return nombres_aleatorios"
      ]
    },
    {
      "cell_type": "code",
      "source": [
        "#Definir nombres de alumnos\n",
        "alumnos_de_posgrado = [\"Alexa Erika\", \"Mariana\",\"Miztli\",\"Daniela\",\"Ana\"]\n",
        "nombres_seleccionados = representante(alumnos_de_posgrado)"
      ],
      "metadata": {
        "id": "yQbznZP957cQ"
      },
      "execution_count": null,
      "outputs": []
    },
    {
      "cell_type": "code",
      "source": [
        "#Imprimir mi lista de ganadores\n",
        "print(\"El representante de alumnos del posgrado será:\", nombres_seleccionados)"
      ],
      "metadata": {
        "colab": {
          "base_uri": "https://localhost:8080/"
        },
        "id": "qkCKI1QN7Pj0",
        "outputId": "4135bd8d-f9f9-4ac6-eebc-709777d20446"
      },
      "execution_count": null,
      "outputs": [
        {
          "output_type": "stream",
          "name": "stdout",
          "text": [
            "El representante de alumnos del posgrado será: ['Mariana']\n"
          ]
        }
      ]
    }
  ]
}